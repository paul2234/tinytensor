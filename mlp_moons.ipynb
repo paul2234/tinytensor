{
 "cells": [
  {
   "cell_type": "code",
   "execution_count": 1,
   "id": "02181154-129a-4caf-a952-dd0d2ab468da",
   "metadata": {},
   "outputs": [],
   "source": [
    "from tinytensor.engine import Tensor\n",
    "from tinytensor.nn import Model, Dense, mse, l2_reg, array_to_Tensor_list, sgd\n",
    "from typing import Tuple\n",
    "import numpy as np\n",
    "import matplotlib.pyplot as plt\n",
    "from sklearn.datasets import make_moons, make_blobs\n"
   ]
  },
  {
   "cell_type": "code",
   "execution_count": null,
   "id": "97fdbdd8-a65c-4982-8398-4b85e29b91e9",
   "metadata": {},
   "outputs": [],
   "source": [
    "# Make dataset\n",
    "X, y = make_moons(n_samples=100, noise=0.1)\n",
    "y = y.reshape(-1,1)\n",
    "\n",
    "print(\"X shape:\",X.shape)\n",
    "print(\"y shape:\",y.shape)\n",
    "\n",
    "# Create a figure with subplots\n",
    "fig, axs = plt.subplots(1, 2, figsize=(10, 4))  # 1 row, 2 columns\n",
    "\n",
    "# Scatter plot on the left\n",
    "axs[0].scatter(X[:,0], X[:,1], c=y, s=20, cmap='jet')\n",
    "axs[0].set_title('Scatter Plot')\n",
    "\n",
    "# Histogram on the right\n",
    "axs[1].hist(y, bins=20, color='blue', alpha=0.7)\n",
    "axs[1].set_title('Histogram')\n",
    "\n",
    "# Display the figure\n",
    "plt.show()\n"
   ]
  },
  {
   "cell_type": "code",
   "execution_count": null,
   "id": "1b30a4aa-6602-45ee-b7ea-9c2a38d4da82",
   "metadata": {},
   "outputs": [],
   "source": [
    "# setup the model\n",
    "Xt = array_to_Tensor_list(X)\n",
    "yt = array_to_Tensor_list(y)\n",
    "\n",
    "initial_model = Model()\n",
    "initial_model.layers.append(Dense(2,16,\"relu\"))\n",
    "initial_model.layers.append(Dense(16,16,\"relu\"))\n",
    "initial_model.layers.append(Dense(16,1,\"sigmoid\"))\n"
   ]
  },
  {
   "cell_type": "code",
   "execution_count": null,
   "id": "45e9720d-dec3-4929-83b1-b1861c706afa",
   "metadata": {},
   "outputs": [],
   "source": [
    "def loss(model: Model,x: list,y: list) -> Tuple[Tensor,float]:\n",
    "        \n",
    "    #forward pass\n",
    "    yhats = list(map(model,x))\n",
    "\n",
    "    #loss functions\n",
    "    data_loss = mse(yhats,y)\n",
    "    total_loss = data_loss\n",
    "\n",
    "    #calculate accuracy\n",
    "    accuracies = [(yhat.data > 0.5) == (yi.data > 0.5) for yhat,yi in zip(yhats,y)]\n",
    "    accuracy = sum(accuracies) / len(accuracies)\n",
    "\n",
    "    return total_loss,accuracy\n",
    "\n",
    "def train(model: Model,X: list,y: list) -> list:\n",
    "    \n",
    "    total_loss,accuracy = loss(model,X,y)\n",
    "    print(f\"total_loss: {total_loss.data}; accuracy:{accuracy}\")\n",
    "\n",
    "    #backward\n",
    "    total_loss.backward()\n",
    "\n",
    "    #TODO: return grads here\n",
    "    #get new layers\n",
    "    grads = [layer.grads() for layer in model.layers]\n",
    "    new_layers = [sgd(layer,grad,10) for layer,grad in zip(model.layers,grads)]\n",
    "    new_model = Model(layers = new_layers)\n",
    "    \n",
    "    return new_model"
   ]
  },
  {
   "cell_type": "code",
   "execution_count": null,
   "id": "12c971f5-50c8-494a-9728-ae840bea03c7",
   "metadata": {},
   "outputs": [],
   "source": [
    "def train_loop(model: Model,X: list,y: list,num_iterations: int) -> Model:\n",
    "    for k in range(num_iterations):\n",
    "        new_model = train(model,X,y)\n",
    "        model = new_model\n",
    "\n",
    "    return model\n",
    "\n",
    "final_model = train_loop(initial_model,Xt,yt,num_iterations = 100)"
   ]
  },
  {
   "cell_type": "code",
   "execution_count": null,
   "id": "aa50b0b8-770b-4090-8c1b-c148914d8587",
   "metadata": {},
   "outputs": [],
   "source": [
    "Xt[0].data"
   ]
  },
  {
   "cell_type": "code",
   "execution_count": null,
   "id": "fe3a875d-fe72-40b8-bfa2-c63e0c41afe1",
   "metadata": {},
   "outputs": [],
   "source": []
  },
  {
   "cell_type": "code",
   "execution_count": null,
   "id": "3419a413-6b5e-4570-aad2-a8f807759064",
   "metadata": {},
   "outputs": [],
   "source": []
  }
 ],
 "metadata": {
  "kernelspec": {
   "display_name": "env",
   "language": "python",
   "name": "env"
  },
  "language_info": {
   "codemirror_mode": {
    "name": "ipython",
    "version": 3
   },
   "file_extension": ".py",
   "mimetype": "text/x-python",
   "name": "python",
   "nbconvert_exporter": "python",
   "pygments_lexer": "ipython3",
   "version": "3.8.8"
  }
 },
 "nbformat": 4,
 "nbformat_minor": 5
}
